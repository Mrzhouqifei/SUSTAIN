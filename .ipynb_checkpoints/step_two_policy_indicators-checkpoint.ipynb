{
 "cells": [
  {
   "cell_type": "code",
   "execution_count": 15,
   "metadata": {},
   "outputs": [],
   "source": [
    "import pandas as pd\n",
    "import numpy as np\n",
    "import warnings\n",
    "warnings.simplefilter(\"ignore\")\n",
    "from sklearn.tree import DecisionTreeRegressor"
   ]
  },
  {
   "cell_type": "code",
   "execution_count": 3,
   "metadata": {},
   "outputs": [],
   "source": [
    "def pre_series(series, countries):\n",
    "    process_series = series.groupby('Country/Region').sum().drop(['Lat', 'Long'], axis=1).loc[countries, :].T[\n",
    "    countries].fillna(0)\n",
    "    process_series.index = pd.to_datetime(process_series.index)\n",
    "    return process_series"
   ]
  },
  {
   "cell_type": "code",
   "execution_count": 4,
   "metadata": {},
   "outputs": [],
   "source": [
    "# 'confirmed', 'deaths', 'recovered'\n",
    "confirmed = pd.read_csv('raw_data/COVID/time_series_covid19_' + 'confirmed' + '_global.csv')\n",
    "deaths = pd.read_csv('raw_data/COVID/time_series_covid19_' + 'deaths' + '_global.csv')\n",
    "recovered = pd.read_csv('raw_data/COVID/time_series_covid19_' + 'recovered' + '_global.csv')\n",
    "\n",
    "policies = pd.read_excel('raw_data/policies_all_countries.xlsx')\n",
    "indicator_year = 2019\n",
    "indicators = pd.read_excel('raw_data/indicators_all_countries.xlsx')[\n",
    "    ['Country', 'Indicator', 'Unit', indicator_year]]"
   ]
  },
  {
   "cell_type": "code",
   "execution_count": 5,
   "metadata": {},
   "outputs": [
    {
     "data": {
      "text/plain": [
       "163"
      ]
     },
     "execution_count": 5,
     "metadata": {},
     "output_type": "execute_result"
    }
   ],
   "source": [
    "countries = sorted(list((set(confirmed['Country/Region'])).intersection(set(policies.entity)).intersection(set(indicators['Country']))))\n",
    "len(countries)"
   ]
  },
  {
   "cell_type": "code",
   "execution_count": 6,
   "metadata": {},
   "outputs": [],
   "source": [
    "confirmed = pre_series(confirmed, countries)\n",
    "deaths = pre_series(deaths, countries)\n",
    "recovered = pre_series(recovered, countries)"
   ]
  },
  {
   "cell_type": "code",
   "execution_count": 7,
   "metadata": {},
   "outputs": [],
   "source": [
    "# mortality/recovery rate 死亡率恢复率\n",
    "mortality = (deaths / confirmed).dropna(how='all').stack().reset_index()\n",
    "recovery = (recovered / confirmed).dropna(how='all').stack().reset_index()\n",
    "mortality.columns = ['date', 'country', 'y']\n",
    "recovery.columns = ['date', 'country', 'y']"
   ]
  },
  {
   "cell_type": "code",
   "execution_count": 23,
   "metadata": {},
   "outputs": [],
   "source": [
    "def policy_indicators(policies, rates):\n",
    "    rates = mortality.copy()\n",
    "    policy_names = [x for x in list(policies.columns) if x not in ['entity', 'iso', 'date']]\n",
    "    for policy_name in policy_names:\n",
    "        \"\"\"\n",
    "        information gain based on Gini Index\n",
    "        \"\"\"\n",
    "        tmp = policies[['entity', 'date', policy_name]].pivot_table(index=['date', 'entity'], values=policy_name).reset_index()\n",
    "        tmp.columns = ['date', 'country', policy_name]\n",
    "        tmp.date = pd.to_datetime(tmp.date)\n",
    "        rates = rates.merge(tmp, on=['date', 'country'], how='inner').dropna()\n",
    "    indicators_values = indicators.pivot_table(index=['Indicator', 'Unit'], columns='Country', values=indicator_year)[countries].fillna(0).T\n",
    "    \n",
    "    res = None\n",
    "    for policy_name in policy_names:\n",
    "        train = indicators_values.merge(rates[['date', 'country', 'y', policy_name]], left_index=True, right_on='country')\n",
    "        train_columns = [x for x in train.columns if x not in ['date', 'country', 'y']]\n",
    "        model = DecisionTreeRegressor().fit(train[train_columns], train['y'])\n",
    "        model_importance = model.tree_.compute_feature_importances(normalize=True)\n",
    "        importance = pd.DataFrame({'Indicator': train_columns, 'importance': model_importance}).sort_values('importance', ascending=False)\n",
    "        importance = importance[importance['Indicator']!=policy_name]\n",
    "        importance['Policy'] = policy_name\n",
    "        res = pd.concat((res,importance[['Policy', 'Indicator', 'importance']][:10]))\n",
    "    return res"
   ]
  },
  {
   "cell_type": "code",
   "execution_count": 24,
   "metadata": {},
   "outputs": [],
   "source": [
    "policy_indicators(policies, recovery).to_csv('output/step_two/policy_indicator.csv', index=False)"
   ]
  },
  {
   "cell_type": "code",
   "execution_count": null,
   "metadata": {},
   "outputs": [],
   "source": []
  }
 ],
 "metadata": {
  "kernelspec": {
   "display_name": "Python 3",
   "language": "python",
   "name": "python3"
  },
  "language_info": {
   "codemirror_mode": {
    "name": "ipython",
    "version": 3
   },
   "file_extension": ".py",
   "mimetype": "text/x-python",
   "name": "python",
   "nbconvert_exporter": "python",
   "pygments_lexer": "ipython3",
   "version": "3.8.3"
  }
 },
 "nbformat": 4,
 "nbformat_minor": 4
}
