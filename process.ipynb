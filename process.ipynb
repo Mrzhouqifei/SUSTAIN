{
 "cells": [
  {
   "cell_type": "code",
   "execution_count": null,
   "metadata": {},
   "outputs": [],
   "source": [
    "import pandas as pd\n",
    "from gluonts.dataset.field_names import FieldName\n",
    "from gluonts.dataset.common import ListDataset\n",
    "from gluonts.dataset.util import to_pandas\n",
    "import matplotlib.pyplot as plt"
   ]
  },
  {
   "cell_type": "code",
   "execution_count": null,
   "metadata": {},
   "outputs": [],
   "source": [
    "confirmed = pd.read_csv('raw_data/COVID/time_series_covid19_confirmed_global.csv')\n",
    "indicators = pd.read_excel('raw_data/SUSTAIN database_08Jan2021_Asia and Latin America.xlsx')\n",
    "policy = pd.read_excel('raw_data/SUSTAIN database_09Jan2021_policies_Asia and Latin America.xlsx')"
   ]
  },
  {
   "cell_type": "code",
   "execution_count": null,
   "metadata": {},
   "outputs": [],
   "source": [
    "# confirmed.head(10)\n",
    "# len(list(set(policy.entity)))\n",
    "# len(list(set(indicators.Country)))\n",
    "# len(list(set(confirmed['Country/Region'])))\n",
    "countries = list(set(policy.entity).intersection(set(confirmed['Country/Region'])).intersection(set(indicators['Country'])))"
   ]
  },
  {
   "cell_type": "code",
   "execution_count": null,
   "metadata": {},
   "outputs": [],
   "source": [
    "def create_dataset(num_series, num_steps):\n",
    "    # size = (num_series, num_steps)\n",
    "    \n",
    "    "
   ]
  },
  {
   "cell_type": "code",
   "execution_count": null,
   "metadata": {},
   "outputs": [],
   "source": [
    "confirmed_series = confirmed.groupby('Country/Region').sum().drop(['Lat', 'Long'],axis=1).loc[countries, :]\n",
    "target = confirmed_series.values"
   ]
  },
  {
   "cell_type": "code",
   "execution_count": null,
   "metadata": {},
   "outputs": [],
   "source": [
    "target.shape"
   ]
  },
  {
   "cell_type": "code",
   "execution_count": null,
   "metadata": {},
   "outputs": [],
   "source": [
    "# define the parameters of the dataset\n",
    "custom_ds_metadata = {'num_series': len(countries),\n",
    "                      'num_steps': len(confirmed_series),\n",
    "                      'prediction_length': 10,\n",
    "                      'freq': '1D',\n",
    "                      'start': [pd.Timestamp(confirmed_series.index[0], freq='1D')\n",
    "                                for _ in range(len(confirmed_series))]\n",
    "                     }"
   ]
  },
  {
   "cell_type": "code",
   "execution_count": null,
   "metadata": {},
   "outputs": [],
   "source": [
    "train_ds = ListDataset([{FieldName.TARGET: target,\n",
    "                         FieldName.START: start,\n",
    "                         FieldName.FEAT_DYNAMIC_REAL: [fdr],\n",
    "#                          FieldName.FEAT_STATIC_CAT: [fsc]\n",
    "                        }\n",
    "                        for (target, start, fdr) in zip(target[:, :-custom_ds_metadata['prediction_length']],\n",
    "                                                             custom_ds_metadata['start'],\n",
    "                                                             target[:, :-custom_ds_metadata['prediction_length']],\n",
    "#                                                              feat_static_cat\n",
    "                                                            )],\n",
    "                      freq=custom_ds_metadata['freq'])"
   ]
  },
  {
   "cell_type": "code",
   "execution_count": null,
   "metadata": {},
   "outputs": [],
   "source": [
    "test_ds = ListDataset([{FieldName.TARGET: target,\n",
    "                        FieldName.START: start,\n",
    "                        FieldName.FEAT_DYNAMIC_REAL: [fdr],\n",
    "#                         FieldName.FEAT_STATIC_CAT: [fsc]\n",
    "                       }\n",
    "                       for (target, start, fdr) in zip(target,\n",
    "                                                            custom_ds_metadata['start'],\n",
    "                                                            target,\n",
    "#                                                             feat_static_cat\n",
    "                                                      )],\n",
    "                     freq=custom_ds_metadata['freq'])"
   ]
  },
  {
   "cell_type": "code",
   "execution_count": null,
   "metadata": {},
   "outputs": [],
   "source": [
    "train_entry = next(iter(train_ds))\n",
    "train_entry.keys()"
   ]
  },
  {
   "cell_type": "code",
   "execution_count": null,
   "metadata": {},
   "outputs": [],
   "source": [
    "test_entry = next(iter(test_ds))\n",
    "test_entry.keys()"
   ]
  },
  {
   "cell_type": "code",
   "execution_count": null,
   "metadata": {},
   "outputs": [],
   "source": [
    "test_series = to_pandas(test_entry)\n",
    "train_series = to_pandas(train_entry)\n",
    "\n",
    "fig, ax = plt.subplots(2, 1, sharex=True, sharey=True, figsize=(10, 7))\n",
    "\n",
    "train_series.plot(ax=ax[0])\n",
    "ax[0].grid(which=\"both\")\n",
    "ax[0].legend([\"train series\"], loc=\"upper left\")\n",
    "\n",
    "test_series.plot(ax=ax[1])\n",
    "ax[1].axvline(train_series.index[-1], color='r') # end of train dataset\n",
    "ax[1].grid(which=\"both\")\n",
    "ax[1].legend([\"test series\", \"end of train series\"], loc=\"upper left\")\n",
    "\n",
    "plt.show()"
   ]
  },
  {
   "cell_type": "code",
   "execution_count": 1,
   "metadata": {},
   "outputs": [],
   "source": [
    "from gluonts.transform import (\n",
    "    AddAgeFeature,\n",
    "    AddObservedValuesIndicator,\n",
    "    Chain,\n",
    "    ExpectedNumInstanceSampler,\n",
    "    InstanceSplitter,\n",
    "    SetFieldIfNotPresent,\n",
    ")"
   ]
  },
  {
   "cell_type": "code",
   "execution_count": 2,
   "metadata": {},
   "outputs": [],
   "source": []
  },
  {
   "cell_type": "code",
   "execution_count": null,
   "metadata": {},
   "outputs": [],
   "source": []
  },
  {
   "cell_type": "code",
   "execution_count": null,
   "metadata": {},
   "outputs": [],
   "source": []
  }
 ],
 "metadata": {
  "kernelspec": {
   "display_name": "Python 3",
   "language": "python",
   "name": "python3"
  },
  "language_info": {
   "codemirror_mode": {
    "name": "ipython",
    "version": 3
   },
   "file_extension": ".py",
   "mimetype": "text/x-python",
   "name": "python",
   "nbconvert_exporter": "python",
   "pygments_lexer": "ipython3",
   "version": "3.8.3"
  }
 },
 "nbformat": 4,
 "nbformat_minor": 4
}
