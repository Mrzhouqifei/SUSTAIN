{
 "cells": [
  {
   "cell_type": "code",
   "execution_count": 1,
   "metadata": {},
   "outputs": [],
   "source": [
    "import pandas as pd\n",
    "import numpy as np\n",
    "from sklearn.tree import DecisionTreeRegressor"
   ]
  },
  {
   "cell_type": "code",
   "execution_count": 2,
   "metadata": {},
   "outputs": [],
   "source": [
    "def pre_series(series, countries):\n",
    "    process_series = series.groupby('Country/Region').sum().drop(['Lat', 'Long'], axis=1).loc[countries, :].T[\n",
    "    countries].fillna(0)\n",
    "    process_series.index = pd.to_datetime(process_series.index)\n",
    "    return process_series"
   ]
  },
  {
   "cell_type": "code",
   "execution_count": 3,
   "metadata": {},
   "outputs": [],
   "source": [
    "# 'confirmed', 'deaths', 'recovered'\n",
    "confirmed = pd.read_csv('raw_data/COVID/time_series_covid19_' + 'confirmed' + '_global.csv')\n",
    "deaths = pd.read_csv('raw_data/COVID/time_series_covid19_' + 'deaths' + '_global.csv')\n",
    "recovered = pd.read_csv('raw_data/COVID/time_series_covid19_' + 'recovered' + '_global.csv')\n",
    "\n",
    "policies = pd.read_excel('raw_data/policies.xlsx')"
   ]
  },
  {
   "cell_type": "code",
   "execution_count": 4,
   "metadata": {},
   "outputs": [
    {
     "data": {
      "text/plain": [
       "42"
      ]
     },
     "execution_count": 4,
     "metadata": {},
     "output_type": "execute_result"
    }
   ],
   "source": [
    "countries = sorted(list((set(confirmed['Country/Region'])).intersection(set(policies.entity))))\n",
    "len(countries)"
   ]
  },
  {
   "cell_type": "code",
   "execution_count": 5,
   "metadata": {},
   "outputs": [],
   "source": [
    "confirmed = pre_series(confirmed, countries)\n",
    "deaths = pre_series(deaths, countries)\n",
    "recovered = pre_series(recovered, countries)"
   ]
  },
  {
   "cell_type": "code",
   "execution_count": 6,
   "metadata": {},
   "outputs": [],
   "source": [
    "# mortality/recovery rate 死亡率恢复率\n",
    "mortality = (deaths / confirmed).dropna(how='all').stack().reset_index()\n",
    "recovery = (recovered / confirmed).dropna(how='all').stack().reset_index()\n",
    "mortality.columns = ['date', 'country', 'y']\n",
    "recovery.columns = ['date', 'country', 'y']"
   ]
  },
  {
   "cell_type": "code",
   "execution_count": 12,
   "metadata": {},
   "outputs": [],
   "source": [
    "def policy_influence(policies, rates):\n",
    "    policy_names = [x for x in list(policies.columns) if x not in ['entity', 'iso', 'date']]\n",
    "    for policy_name in policy_names:\n",
    "        \"\"\"\n",
    "        information gain based on Gini Index\n",
    "        \"\"\"\n",
    "        tmp = policies[['entity', 'date', policy_name]].pivot_table(index=['date', 'entity'], values=policy_name).reset_index()\n",
    "        tmp.columns = ['date', 'country', policy_name]\n",
    "        tmp.date = pd.to_datetime(tmp.date)\n",
    "        rates = rates.merge(tmp, on=['date', 'country'], how='inner').dropna()\n",
    "    res = None\n",
    "    for key, rate in rates.groupby('country'):\n",
    "        if len(rate) > 50:\n",
    "            model = DecisionTreeRegressor().fit(rate[policy_names], rate['y'])\n",
    "            model_importance = model.tree_.compute_feature_importances(normalize=True)\n",
    "            importance = pd.DataFrame({'Policy': policy_names, 'importance': model_importance}).sort_values('importance', ascending=False)\n",
    "            importance['Country'] = key\n",
    "            res = pd.concat((res,importance[['Country', 'Policy', 'importance']][:10]))\n",
    "    return res"
   ]
  },
  {
   "cell_type": "code",
   "execution_count": 13,
   "metadata": {},
   "outputs": [],
   "source": [
    "policy_influence(policies, mortality).to_csv('output/step_two/country_policy_influence/policy_mortality.csv', index=False)\n",
    "policy_influence(policies, recovery).to_csv('output/step_two/country_policy_influence/policy_recovery.csv', index=False)"
   ]
  },
  {
   "cell_type": "code",
   "execution_count": null,
   "metadata": {},
   "outputs": [],
   "source": []
  }
 ],
 "metadata": {
  "kernelspec": {
   "display_name": "Python 3",
   "language": "python",
   "name": "python3"
  },
  "language_info": {
   "codemirror_mode": {
    "name": "ipython",
    "version": 3
   },
   "file_extension": ".py",
   "mimetype": "text/x-python",
   "name": "python",
   "nbconvert_exporter": "python",
   "pygments_lexer": "ipython3",
   "version": "3.8.3"
  }
 },
 "nbformat": 4,
 "nbformat_minor": 4
}
