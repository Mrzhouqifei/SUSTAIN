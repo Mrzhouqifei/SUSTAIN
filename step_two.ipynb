{
 "cells": [
  {
   "cell_type": "code",
   "execution_count": 2,
   "metadata": {},
   "outputs": [],
   "source": [
    "import pandas as pd\n",
    "from preprocess import get_data"
   ]
  },
  {
   "cell_type": "code",
   "execution_count": null,
   "metadata": {},
   "outputs": [],
   "source": [
    "def pre_series(series, countries):\n",
    "    process_series = series.groupby('Country/Region').sum().drop(['Lat', 'Long'], axis=1).loc[countries, :].T[\n",
    "    countries].fillna(0)\n",
    "    process_series.index = pd.to_datetime(process_series.index)\n",
    "    return process_series"
   ]
  },
  {
   "cell_type": "code",
   "execution_count": 90,
   "metadata": {},
   "outputs": [],
   "source": [
    "indicator_year = 2019\n",
    "indicators = pd.read_excel('raw_data/indicators_all_countries.xlsx')[\n",
    "    ['Country', 'Indicator', 'Unit', indicator_year]]\n",
    "# policies = pd.read_excel('raw_data/policies.xlsx')"
   ]
  },
  {
   "cell_type": "code",
   "execution_count": 97,
   "metadata": {},
   "outputs": [],
   "source": [
    "# 'confirmed', 'deaths', 'recovered'\n",
    "confirmed = get_data.download_covid_data('confirmed')\n",
    "deaths = get_data.download_covid_data('deaths')\n",
    "recovered = get_data.download_covid_data('recovered')"
   ]
  },
  {
   "cell_type": "code",
   "execution_count": 98,
   "metadata": {},
   "outputs": [],
   "source": [
    "countries = sorted(list((set(confirmed['Country/Region'])).intersection(set(indicators['Country'])))) # set(policies.entity).intersection"
   ]
  },
  {
   "cell_type": "code",
   "execution_count": 99,
   "metadata": {},
   "outputs": [],
   "source": [
    "confirmed = pre_series(confirmed, countries)\n",
    "deaths = pre_series(deaths, countries)\n",
    "recovered = pre_series(recovered, countries)"
   ]
  },
  {
   "cell_type": "code",
   "execution_count": 100,
   "metadata": {},
   "outputs": [],
   "source": [
    "# mortality/recovery rate 死亡率恢复率\n",
    "mortality = deaths / confirmed\n",
    "recovery = recovered / confirmed"
   ]
  },
  {
   "cell_type": "code",
   "execution_count": 101,
   "metadata": {},
   "outputs": [],
   "source": [
    "def indicator_influence(indicators, rates):\n",
    "    indicators_values = indicators.pivot_table(index=['Indicator', 'Unit'], columns='Country', values=indicator_year)[countries].fillna(0).T\n",
    "    indicator_mortality = {}\n",
    "    for i in range(len(indicators_values.columns)):\n",
    "        indicator_mortality[indicators_values.columns[i]] = (indicators_values.iloc[:,i].corr(rates.iloc[-1]))\n",
    "    indicator_mortality = sorted(indicator_mortality.items(), key=lambda x:-abs(x[1]))\n",
    "    rate = []\n",
    "    for x in indicator_mortality:\n",
    "        rate.append([x[0][0], x[0][1], x[1]])\n",
    "    return pd.DataFrame(rate, columns=['Indicator', 'Unit', 'influence'])"
   ]
  },
  {
   "cell_type": "code",
   "execution_count": 102,
   "metadata": {},
   "outputs": [],
   "source": [
    "indicator_influence(indicators, mortality).to_csv('output/step_two/indicator_influence/indicator_mortality.csv', index=False)"
   ]
  },
  {
   "cell_type": "code",
   "execution_count": 103,
   "metadata": {},
   "outputs": [],
   "source": [
    "indicator_influence(indicators, recovery).to_csv('output/step_two/indicator_influence/indicator_recovery.csv', index=False)"
   ]
  },
  {
   "cell_type": "code",
   "execution_count": 105,
   "metadata": {},
   "outputs": [
    {
     "data": {
      "text/plain": [
       "174"
      ]
     },
     "execution_count": 105,
     "metadata": {},
     "output_type": "execute_result"
    }
   ],
   "source": [
    "len(countries)"
   ]
  },
  {
   "cell_type": "code",
   "execution_count": null,
   "metadata": {},
   "outputs": [],
   "source": []
  }
 ],
 "metadata": {
  "kernelspec": {
   "display_name": "Python 3",
   "language": "python",
   "name": "python3"
  },
  "language_info": {
   "codemirror_mode": {
    "name": "ipython",
    "version": 3
   },
   "file_extension": ".py",
   "mimetype": "text/x-python",
   "name": "python",
   "nbconvert_exporter": "python",
   "pygments_lexer": "ipython3",
   "version": "3.8.3"
  }
 },
 "nbformat": 4,
 "nbformat_minor": 4
}
